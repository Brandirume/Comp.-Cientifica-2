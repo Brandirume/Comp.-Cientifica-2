{
 "cells": [
  {
   "cell_type": "code",
   "execution_count": 1,
   "id": "a93f0263",
   "metadata": {},
   "outputs": [],
   "source": [
    "import numpy as np\n",
    "import matplotlib.pyplot as plt"
   ]
  },
  {
   "cell_type": "markdown",
   "id": "cb273cac",
   "metadata": {},
   "source": [
    "### Equação do calor:\n",
    "Temos $-\\nabla \\cdot (\\kappa \\nabla T) = 0$ Sujeito às seguintes condições de limite:\n",
    "\n",
    "$$ T(x, 0) = T(x, 1) = a $$\n",
    "$$ T(0, y) = b $$\n",
    "$$ -\\kappa \\frac{\\partial T}{\\partial x}(1, y) = h(T - T_{out}) $$\n",
    "onde $(0 < x < 1)$ e $(0 < y < 1)$.\n",
    "### Primeiro, qual é o tipo dessa equação?\n",
    "A equação do calor é dada por: $-\\nabla \\cdot (\\kappa \\nabla T) = -\\kappa \\left(\\frac{\\partial^2 T}{\\partial x^2} + 2 \\frac{\\partial^2 T}{\\partial x \\partial y}+ \\frac{\\partial^2 T}{\\partial y^2}\\right)$. Escrevendo de uma forma mais geral, temos:\n",
    "$$ a \\frac{\\partial^2 T}{\\partial x^2} + 2 b \\frac{\\partial^2 T}{\\partial x \\partial y} + c \\frac{\\partial^2 T}{\\partial y^2} = 0$$\n",
    "Nesta forma, os coeficientes são: $a = -\\kappa $; $ b = -\\kappa $; $ c = -\\kappa $, com isso:\n",
    "$b^2 - 4ac = (-\\kappa)^2 - 4.(-\\kappa).(-\\kappa) = -3\\kappa^2$, logo é uma equação elíptica.\n",
    "### Coisas relacionada para resolver o problema, a grade, a discretização, matrizes,...:\n",
    "##### Discretização da Região para uma Grade:\n",
    "Vamos dividir a região do problema em uma grade para que possamos aproximadar os valores nos pontos dessa grade.\n",
    "Definição dos Parâmetros:  \n",
    "$N_x$ e $N_y$ é o número de pontos em cada direção tanto para $x$ quanto para $y$.  \n",
    "$h_x = \\frac{L_x}{N_x+1}$ e $h_y = \\frac{L_y}{N_y+1}$ é o passo da grade em relação a x e y."
   ]
  },
  {
   "cell_type": "code",
   "execution_count": 2,
   "id": "3a8ef671",
   "metadata": {},
   "outputs": [
    {
     "name": "stdout",
     "output_type": "stream",
     "text": [
      "Grade Discretizada:\n",
      "[[[0.25 0.2 ]\n",
      "  [0.25 0.4 ]\n",
      "  [0.25 0.6 ]\n",
      "  [0.25 0.8 ]]\n",
      "\n",
      " [[0.5  0.2 ]\n",
      "  [0.5  0.4 ]\n",
      "  [0.5  0.6 ]\n",
      "  [0.5  0.8 ]]\n",
      "\n",
      " [[0.75 0.2 ]\n",
      "  [0.75 0.4 ]\n",
      "  [0.75 0.6 ]\n",
      "  [0.75 0.8 ]]]\n",
      "\n",
      "hx (passo em x): 0.25\n",
      "hy (passo em y): 0.2\n"
     ]
    }
   ],
   "source": [
    "def discretize_region(Nx, Ny, Lx, Ly):\n",
    "    # Cálculo dos passos da grade\n",
    "    hx = Lx / (Nx + 1)\n",
    "    hy = Ly / (Ny + 1)\n",
    "\n",
    "    # Discretização das coordenadas\n",
    "    x_points = np.linspace(hx, 1 - hx, Nx)\n",
    "    y_points = np.linspace(hy, 1 - hy, Ny)\n",
    "\n",
    "    # Criação de uma grade Nx x Ny\n",
    "    grid = np.zeros((Nx, Ny, 2))\n",
    "\n",
    "    for i in range(Nx):\n",
    "        for j in range(Ny):\n",
    "            grid[i, j, 0] = x_points[i]\n",
    "            grid[i, j, 1] = y_points[j]\n",
    "\n",
    "    return grid, hx, hy\n",
    "\n",
    "# Exemplo com Nx = 4, Ny = 3\n",
    "Nx = 3\n",
    "Ny = 4\n",
    "grid, hx, hy = discretize_region(Nx, Ny)\n",
    "\n",
    "print(\"Grade Discretizada:\")\n",
    "print(grid)\n",
    "print(\"\\nhx (passo em x):\", hx)\n",
    "print(\"hy (passo em y):\", hy)"
   ]
  },
  {
   "cell_type": "code",
   "execution_count": null,
   "id": "ad74fd51",
   "metadata": {},
   "outputs": [],
   "source": []
  }
 ],
 "metadata": {
  "kernelspec": {
   "display_name": "Python 3 (ipykernel)",
   "language": "python",
   "name": "python3"
  },
  "language_info": {
   "codemirror_mode": {
    "name": "ipython",
    "version": 3
   },
   "file_extension": ".py",
   "mimetype": "text/x-python",
   "name": "python",
   "nbconvert_exporter": "python",
   "pygments_lexer": "ipython3",
   "version": "3.9.18"
  }
 },
 "nbformat": 4,
 "nbformat_minor": 5
}
