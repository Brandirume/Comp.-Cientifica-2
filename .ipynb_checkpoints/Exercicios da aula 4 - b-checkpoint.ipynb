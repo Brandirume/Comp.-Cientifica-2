{
 "cells": [
  {
   "cell_type": "markdown",
   "id": "463aba24",
   "metadata": {},
   "source": [
    "# Exercise 3.3.10:\n",
    "Verify that the constant vector c in $\\frac{d𝛿u}{dt} = J𝛿u + c$ does not affect the stability analysis, i.e., the stability results are the same as for the homogeneous ODE system.  \n",
    "Hint: Let $𝛿v = 𝛿u + J^{−1}c$ and formulate $\\frac{d𝛿u}{dt} = J𝛿u + c$ for $𝛿v$."
   ]
  },
  {
   "cell_type": "markdown",
   "id": "8b34897c",
   "metadata": {},
   "source": [
    "Let's start with the given equations:  \n",
    "$𝛿v = 𝛿u + J^{−1}c \\tag{1}$\n",
    "and:  \n",
    "$\\frac{d𝛿u}{dt} = J𝛿u + c \\tag{2}$  \n",
    "When we differentiate equation (1) with respect to time, we obtain:  \n",
    "$$\\frac{d𝛿v}{dt} = \\frac{d𝛿u}{dt} + \\frac{d(J^{−1}c)}{dt}$$\n",
    "Now, substituting equation (2) into the above expression, we get:  \n",
    "$\\frac{d𝛿v}{dt} = J𝛿u + c + \\frac{d(J^{−1}c)}{dt} \\tag{3}$\n",
    "Next, let's isolate 𝛿u from equation (1):  \n",
    "$$𝛿u = 𝛿v - J^{−1}c$$\n",
    "Substituting this into equation (3), we have:  \n",
    "$$\\frac{d𝛿v}{dt} = J(𝛿v - J^{−1}c) + c + \\frac{d(J^{−1}c)}{dt}$$\n",
    "$$= J𝛿v - JJ^{−1}c + c + \\frac{d(J^{−1}c)}{dt}$$\n",
    "$$= J𝛿v - c + c + \\frac{d(J^{−1}c)}{dt}$$\n",
    "$$= J𝛿v + \\frac{d(J^{−1}c)}{dt}$$\n",
    "Since $J$ is a constant and does not depend on time, it can be taken out of the derivative:  \n",
    "$$\\frac{d𝛿v}{dt} = J𝛿v + J^{−1}\\frac{dc}{dt}$$\n",
    "Given that $c$ is independent of time, $\\frac{dc}{dt} = 0$, simplifying the equation further:  \n",
    "$$\\frac{d𝛿v}{dt} = J𝛿v$$"
   ]
  },
  {
   "cell_type": "markdown",
   "id": "c8347feb",
   "metadata": {},
   "source": [
    "# Exercise 3.3.11:"
   ]
  },
  {
   "cell_type": "markdown",
   "id": "0bcc84be",
   "metadata": {},
   "source": []
  }
 ],
 "metadata": {
  "kernelspec": {
   "display_name": "Python 3 (ipykernel)",
   "language": "python",
   "name": "python3"
  },
  "language_info": {
   "codemirror_mode": {
    "name": "ipython",
    "version": 3
   },
   "file_extension": ".py",
   "mimetype": "text/x-python",
   "name": "python",
   "nbconvert_exporter": "python",
   "pygments_lexer": "ipython3",
   "version": "3.9.16"
  }
 },
 "nbformat": 4,
 "nbformat_minor": 5
}
