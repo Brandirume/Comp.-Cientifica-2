{
 "cells": [
  {
   "cell_type": "code",
   "execution_count": 1,
   "id": "05aad393",
   "metadata": {},
   "outputs": [],
   "source": [
    "import matplotlib as mpl\n",
    "import matplotlib.pyplot as plt\n",
    "import numpy as np"
   ]
  },
  {
   "cell_type": "markdown",
   "id": "12d1b43b",
   "metadata": {},
   "source": [
    "# Projeto 1:"
   ]
  },
  {
   "cell_type": "markdown",
   "id": "7579bd17",
   "metadata": {},
   "source": [
    "definindo a função para o metodo Analitico:"
   ]
  },
  {
   "cell_type": "code",
   "execution_count": 5,
   "id": "75572c40",
   "metadata": {},
   "outputs": [],
   "source": [
    "def matriz_defeituosa(A):\n",
    "    linhas, colunas = np.shape(A)\n",
    "    if linhas != colunas:\n",
    "        return True\n",
    "    auto_valores, auto_vetores = np.linalg.eig(A)\n",
    "    if not np.all(np.isreal(auto_valores)):\n",
    "        return True\n",
    "    autovalores_unicos = np.unique(auto_valores)\n",
    "    if len(auto_valores) != len(autovalores_unicos):\n",
    "        return True\n",
    "    else:\n",
    "        pass\n",
    "\n",
    "def EDO_solve(A,u0,h=0.01,num_inter=100):\n",
    "    linhas, colunas = np.shape(A)\n",
    "    if matriz_defeituosa(A):\n",
    "        u_n = []\n",
    "        epsilon=1e-10\n",
    "        resultado = np.identity(colunas)\n",
    "        termo = np.identity(colunas)\n",
    "        i = 1\n",
    "        for j in range(num_inter):\n",
    "            t = h*j\n",
    "            while np.max(np.abs(termo)) > epsilon:\n",
    "                termo = np.dot(termo, A) * (t**i / np.math.factorial(i))\n",
    "                resultado += termo\n",
    "                i+=1\n",
    "            print(resultado)\n",
    "            u_n.append(resultado @ u0)\n",
    "        return u_n\n",
    "    else:\n",
    "        alpha, S = np.linalg.eig(A)\n",
    "        S_1 = np.linalg.inv(S)\n",
    "        matriz_alpha = np.diag(alpha)\n",
    "        u_n = []\n",
    "        for j in range(num_inter):\n",
    "            t = j * h\n",
    "            for i in range(colunas):\n",
    "                matriz_alpha[i, i] = np.exp(matriz_alpha[i, i] * t)\n",
    "            u_t = S @ matriz_alpha @ S_1\n",
    "            u_n.append(np.dot(u_t,u0))\n",
    "            matriz_alpha = np.diag(alpha)\n",
    "        return u_n"
   ]
  },
  {
   "cell_type": "markdown",
   "id": "681df741",
   "metadata": {},
   "source": [
    "Definindo a função para o metodo numérico:"
   ]
  },
  {
   "cell_type": "code",
   "execution_count": 6,
   "id": "6ae8d3c1",
   "metadata": {},
   "outputs": [],
   "source": [
    "def FE(A, u0, h=0.01, num_inter=100):\n",
    "    resultados = []\n",
    "    u = u0\n",
    "    for _ in range(num_inter):\n",
    "        u_1 = u + h * np.dot(A, u)\n",
    "        resultados.append(u_1)\n",
    "        u = u_1\n",
    "    return resultados"
   ]
  },
  {
   "cell_type": "markdown",
   "id": "e0304765",
   "metadata": {},
   "source": [
    "# Testando para matriz defeituosa:"
   ]
  },
  {
   "cell_type": "code",
   "execution_count": 7,
   "id": "980eb242",
   "metadata": {},
   "outputs": [
    {
     "name": "stdout",
     "output_type": "stream",
     "text": [
      "[[1. 0. 0. 0. 0. 0.]\n",
      " [0. 1. 0. 0. 0. 0.]\n",
      " [0. 0. 1. 0. 0. 0.]\n",
      " [0. 0. 0. 1. 0. 0.]\n",
      " [0. 0. 0. 0. 1. 0.]\n",
      " [0. 0. 0. 0. 0. 1.]]\n"
     ]
    },
    {
     "ename": "ValueError",
     "evalue": "matmul: Input operand 1 has a mismatch in its core dimension 0, with gufunc signature (n?,k),(k,m?)->(n?,m?) (size 4 is different from 6)",
     "output_type": "error",
     "traceback": [
      "\u001b[1;31m---------------------------------------------------------------------------\u001b[0m",
      "\u001b[1;31mValueError\u001b[0m                                Traceback (most recent call last)",
      "\u001b[1;32m~\\AppData\\Local\\Temp\\ipykernel_7752\\1179526462.py\u001b[0m in \u001b[0;36m<cell line: 8>\u001b[1;34m()\u001b[0m\n\u001b[0;32m      6\u001b[0m                      [ 0, 0, 0, 0, 0, -19]],)\n\u001b[0;32m      7\u001b[0m \u001b[0mu0\u001b[0m \u001b[1;33m=\u001b[0m \u001b[0mnp\u001b[0m\u001b[1;33m.\u001b[0m\u001b[0marray\u001b[0m\u001b[1;33m(\u001b[0m\u001b[1;33m[\u001b[0m\u001b[1;36m1\u001b[0m\u001b[1;33m,\u001b[0m\u001b[1;36m1\u001b[0m\u001b[1;33m,\u001b[0m\u001b[1;36m1\u001b[0m\u001b[1;33m,\u001b[0m\u001b[1;36m1\u001b[0m\u001b[1;33m]\u001b[0m\u001b[1;33m)\u001b[0m\u001b[1;33m\u001b[0m\u001b[1;33m\u001b[0m\u001b[0m\n\u001b[1;32m----> 8\u001b[1;33m \u001b[0mresultado_EDO\u001b[0m \u001b[1;33m=\u001b[0m \u001b[0mEDO_solve\u001b[0m\u001b[1;33m(\u001b[0m\u001b[0mA_defeituosa\u001b[0m\u001b[1;33m,\u001b[0m \u001b[0mu0\u001b[0m\u001b[1;33m)\u001b[0m\u001b[1;33m\u001b[0m\u001b[1;33m\u001b[0m\u001b[0m\n\u001b[0m\u001b[0;32m      9\u001b[0m \u001b[0mresultado_FE\u001b[0m \u001b[1;33m=\u001b[0m \u001b[0mFE\u001b[0m\u001b[1;33m(\u001b[0m\u001b[0mA_defeituosa\u001b[0m\u001b[1;33m,\u001b[0m \u001b[0mu0\u001b[0m\u001b[1;33m)\u001b[0m\u001b[1;33m\u001b[0m\u001b[1;33m\u001b[0m\u001b[0m\n\u001b[0;32m     10\u001b[0m \u001b[0mpontos\u001b[0m \u001b[1;33m=\u001b[0m \u001b[0mnp\u001b[0m\u001b[1;33m.\u001b[0m\u001b[0mlinspace\u001b[0m\u001b[1;33m(\u001b[0m\u001b[1;36m0\u001b[0m\u001b[1;33m,\u001b[0m\u001b[1;36m1\u001b[0m\u001b[1;33m,\u001b[0m\u001b[1;36m100\u001b[0m\u001b[1;33m)\u001b[0m\u001b[1;33m\u001b[0m\u001b[1;33m\u001b[0m\u001b[0m\n",
      "\u001b[1;32m~\\AppData\\Local\\Temp\\ipykernel_7752\\2885432750.py\u001b[0m in \u001b[0;36mEDO_solve\u001b[1;34m(A, u0, h, num_inter)\u001b[0m\n\u001b[0;32m     27\u001b[0m                 \u001b[0mi\u001b[0m\u001b[1;33m+=\u001b[0m\u001b[1;36m1\u001b[0m\u001b[1;33m\u001b[0m\u001b[1;33m\u001b[0m\u001b[0m\n\u001b[0;32m     28\u001b[0m             \u001b[0mprint\u001b[0m\u001b[1;33m(\u001b[0m\u001b[0mresultado\u001b[0m\u001b[1;33m)\u001b[0m\u001b[1;33m\u001b[0m\u001b[1;33m\u001b[0m\u001b[0m\n\u001b[1;32m---> 29\u001b[1;33m             \u001b[0mu_n\u001b[0m\u001b[1;33m.\u001b[0m\u001b[0mappend\u001b[0m\u001b[1;33m(\u001b[0m\u001b[0mresultado\u001b[0m \u001b[1;33m@\u001b[0m \u001b[0mu0\u001b[0m\u001b[1;33m)\u001b[0m\u001b[1;33m\u001b[0m\u001b[1;33m\u001b[0m\u001b[0m\n\u001b[0m\u001b[0;32m     30\u001b[0m         \u001b[1;32mreturn\u001b[0m \u001b[0mu_n\u001b[0m\u001b[1;33m\u001b[0m\u001b[1;33m\u001b[0m\u001b[0m\n\u001b[0;32m     31\u001b[0m     \u001b[1;32melse\u001b[0m\u001b[1;33m:\u001b[0m\u001b[1;33m\u001b[0m\u001b[1;33m\u001b[0m\u001b[0m\n",
      "\u001b[1;31mValueError\u001b[0m: matmul: Input operand 1 has a mismatch in its core dimension 0, with gufunc signature (n?,k),(k,m?)->(n?,m?) (size 4 is different from 6)"
     ]
    }
   ],
   "source": [
    "A_defeituosa = np.array([[-4, -4, 1, 0, 0, 0],\n",
    "                     [-4, -4, 1, 0, 0, 0],\n",
    "                     [0, 0, -19, 1, 1, 0],\n",
    "                     [ 0, 0, 0, -4, -4, 1],\n",
    "                     [ 0, 0, 0, -4, -4, 1],\n",
    "                     [ 0, 0, 0, 0, 0, -19]],)\n",
    "u0 = np.array([1,1,1,1])\n",
    "resultado_EDO = EDO_solve(A_defeituosa, u0)\n",
    "resultado_FE = FE(A_defeituosa, u0)\n",
    "pontos = np.linspace(0,1,100)\n",
    "fig,(x1,x2,x3)=plt.subplots(1,3)\n",
    "for i in range(A_defeituosa.shape[0]):\n",
    "    u_EDO = [x[i] for x in resultado_EDO]\n",
    "    u_FE = [x[i] for x in resultado_FE]\n",
    "    error = [abs(abs(u_EDO[i])-abs(u_FE[i])) for i in range(0,len(u_EDO))]\n",
    "    x1.plot(pontos, u_EDO, label=f'u{i}')\n",
    "    x2.plot(pontos, u_FE, label=f'u{i}')\n",
    "    x3.plot(pontos, error)\n",
    "x1.set_title(\"analítica:\")\n",
    "x2.set_title(\"numérica:\")\n",
    "x3.set_title(\"Erro:\")\n",
    "x1.legend()\n",
    "x2.legend()\n",
    "plt.show()"
   ]
  },
  {
   "cell_type": "markdown",
   "id": "81360dea",
   "metadata": {},
   "source": [
    "# Testando para matriz não defeituosa:"
   ]
  },
  {
   "cell_type": "code",
   "execution_count": null,
   "id": "a0536e67",
   "metadata": {
    "scrolled": true
   },
   "outputs": [],
   "source": [
    "A_nao_defeituosa = np.array([[0.6, 0.2, 0.3, 0.1],\n",
    "              [0.2, 0.9, 0.1, 0.3],\n",
    "              [0.3, 0.1, 0.8, 0.2],\n",
    "              [0.1, 0.3, 0.2, 0.7]])\n",
    "u0 = np.array([1,1,1,1])\n",
    "resultado_EDO = EDO_solve(A_nao_defeituosa, u0)\n",
    "resultado_FE = FE(A_nao_defeituosa, u0)\n",
    "pontos = np.linspace(0,1,100)\n",
    "fig,(x1,x2,x3)=plt.subplots(1,3)\n",
    "for i in range(A_nao_defeituosa.shape[0]):\n",
    "    u_EDO = [x[i] for x in resultado_EDO]\n",
    "    u_FE = [x[i] for x in resultado_FE]\n",
    "    error = [abs(abs(u_EDO[i])-abs(u_FE[i])) for i in range(0,len(u_EDO))]\n",
    "    x1.plot(pontos, u_EDO, label=f'u{i}')\n",
    "    x2.plot(pontos, u_FE, label=f'u{i}')\n",
    "    x3.plot(pontos, error)\n",
    "x1.set_title(\"analítica:\")\n",
    "x2.set_title(\"numérica:\")\n",
    "x3.set_title(\"Erro:\")\n",
    "x1.legend()\n",
    "x2.legend()\n",
    "plt.show()"
   ]
  },
  {
   "cell_type": "code",
   "execution_count": null,
   "id": "3f475e18",
   "metadata": {},
   "outputs": [],
   "source": [
    "print(matriz_defeituosa(A_defeituosa))"
   ]
  },
  {
   "cell_type": "code",
   "execution_count": null,
   "id": "396db042",
   "metadata": {},
   "outputs": [],
   "source": []
  }
 ],
 "metadata": {
  "kernelspec": {
   "display_name": "Python 3 (ipykernel)",
   "language": "python",
   "name": "python3"
  },
  "language_info": {
   "codemirror_mode": {
    "name": "ipython",
    "version": 3
   },
   "file_extension": ".py",
   "mimetype": "text/x-python",
   "name": "python",
   "nbconvert_exporter": "python",
   "pygments_lexer": "ipython3",
   "version": "3.9.16"
  }
 },
 "nbformat": 4,
 "nbformat_minor": 5
}
